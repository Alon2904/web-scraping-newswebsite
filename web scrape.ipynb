{
 "cells": [
  {
   "cell_type": "markdown",
   "id": "952a1bcb",
   "metadata": {},
   "source": [
    "In this program we will fetch all of the headlines of news articles from the website www.economist.com"
   ]
  },
  {
   "cell_type": "markdown",
   "id": "8ce038e6",
   "metadata": {},
   "source": [
    "First, we will import 'requests' library that will help us to import the dom data from the website\n",
    "and 'BeautifulSoup' library "
   ]
  },
  {
   "cell_type": "code",
   "execution_count": 43,
   "id": "6e112b21",
   "metadata": {},
   "outputs": [],
   "source": [
    "import requests\n",
    "import bs4\n",
    "from bs4 import BeautifulSoup"
   ]
  },
  {
   "cell_type": "code",
   "execution_count": 44,
   "id": "37f2e8c6",
   "metadata": {},
   "outputs": [],
   "source": [
    "url = 'https://www.economist.com/britain'"
   ]
  },
  {
   "cell_type": "markdown",
   "id": "2898d160",
   "metadata": {},
   "source": [
    "Since some of the websites declines pulling data from with no user-agent, we will set headers as our User-Agent so we can provide it while interacting the website. User-Agent is a signature that tells what web-broswer/device wer'e using to visit a website."
   ]
  },
  {
   "cell_type": "code",
   "execution_count": 45,
   "id": "4f0ce76f",
   "metadata": {},
   "outputs": [],
   "source": [
    "headers = {\n",
    "    'User-Agent':'Mozilla/5.0 (Linux; Android 6.0; Nexus 5 Build/MRA58N) AppleWebKit/537.36 (KHTML, like Gecko) Chrome/97.0.4692.99 Mobile Safari/537.36'\n",
    "\n",
    "}"
   ]
  },
  {
   "cell_type": "code",
   "execution_count": 46,
   "id": "73bf09b2",
   "metadata": {},
   "outputs": [],
   "source": [
    "r = requests.get(url,{'headers':headers})"
   ]
  },
  {
   "cell_type": "markdown",
   "id": "5961b871",
   "metadata": {},
   "source": [
    "In here wer'e assigning the variable soup to all of the dom data from the given website in html format."
   ]
  },
  {
   "cell_type": "code",
   "execution_count": 47,
   "id": "af80c7a2",
   "metadata": {},
   "outputs": [],
   "source": [
    "soup = bs4.BeautifulSoup(r.text,'html.parser')"
   ]
  },
  {
   "cell_type": "markdown",
   "id": "cd517e0c",
   "metadata": {},
   "source": [
    "In this section wer'e assigning to the list object a list that holds the given parameters.\n",
    "The parameters has been found after scanning the html code of the website and understanding the pattrens of containers that\n",
    "holds the header text of the article"
   ]
  },
  {
   "cell_type": "code",
   "execution_count": 48,
   "id": "d12f9f7c",
   "metadata": {},
   "outputs": [],
   "source": [
    "list = soup.find_all('div',{'data-test-id': 'Article Teaser'})"
   ]
  },
  {
   "cell_type": "code",
   "execution_count": 83,
   "id": "2bb7446c",
   "metadata": {},
   "outputs": [
    {
     "name": "stdout",
     "output_type": "stream",
     "text": [
      "Article Header 1 :  The British government’s “levelling up” plans are oddly old-fashioned\n",
      "  \n",
      "Article Header 2 :  Sue Gray delivers a first report on those Downing Street parties\n",
      "  \n",
      "Article Header 3 :  Mike Lynch has lost Britain’s biggest fraud case\n",
      "  \n",
      "Article Header 4 :  Some British children have been changed by covid-19, probably for good\n",
      "  \n",
      "Article Header 5 :  The government is promising to tackle the NHS backlog\n",
      "  \n",
      "Article Header 6 :  A quixotic plan to roll back EU law\n",
      "  \n",
      "Article Header 7 :  The laws are being removed from Parliament\n",
      "  \n",
      "Article Header 8 :  Brexit and covid-19 have produced a bigger civil service\n",
      "  \n",
      "Article Header 9 :  Britain’s newly listed tech firms are taking a beating\n",
      "  \n",
      "Article Header 10 :  After more than two decades, Britain is finally rid of termites\n",
      "  \n",
      "Article Header 11 :  Little sign of compromise over the Northern Ireland protocol\n",
      "  \n",
      "Article Header 12 :  Boris Johnson is making boring politics look attractive\n",
      "  \n"
     ]
    }
   ],
   "source": [
    "\n",
    "     \n",
    "for x in range(len(list)):\n",
    "    print(\"Article Header\",x+1,\": \",list[x].find_all('div',{'class','teaser__text'})[0].find('span',{'class': 'teaser__headline--sc3'}).text)\n",
    "    print(\"  \")\n",
    "    "
   ]
  },
  {
   "cell_type": "code",
   "execution_count": null,
   "id": "1745eb93",
   "metadata": {},
   "outputs": [],
   "source": []
  }
 ],
 "metadata": {
  "kernelspec": {
   "display_name": "Python 3 (ipykernel)",
   "language": "python",
   "name": "python3"
  },
  "language_info": {
   "codemirror_mode": {
    "name": "ipython",
    "version": 3
   },
   "file_extension": ".py",
   "mimetype": "text/x-python",
   "name": "python",
   "nbconvert_exporter": "python",
   "pygments_lexer": "ipython3",
   "version": "3.9.7"
  }
 },
 "nbformat": 4,
 "nbformat_minor": 5
}
